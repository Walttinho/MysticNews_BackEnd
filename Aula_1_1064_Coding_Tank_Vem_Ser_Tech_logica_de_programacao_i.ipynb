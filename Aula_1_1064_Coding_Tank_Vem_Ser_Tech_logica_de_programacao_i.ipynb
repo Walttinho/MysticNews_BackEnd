{
  "cells": [
    {
      "cell_type": "markdown",
      "metadata": {
        "id": "view-in-github",
        "colab_type": "text"
      },
      "source": [
        "<a href=\"https://colab.research.google.com/github/Walttinho/MysticNews_BackEnd/blob/main/Aula_1_1064_Coding_Tank_Vem_Ser_Tech_logica_de_programacao_i.ipynb\" target=\"_parent\"><img src=\"https://colab.research.google.com/assets/colab-badge.svg\" alt=\"Open In Colab\"/></a>"
      ]
    },
    {
      "cell_type": "markdown",
      "id": "423e117e",
      "metadata": {
        "id": "423e117e"
      },
      "source": [
        "<div style=\"background-color: lightgreen; padding: 18px;\">\n",
        "    <h1> Coding Tank | Vem Ser Tech\n",
        "</div>"
      ]
    },
    {
      "cell_type": "markdown",
      "source": [
        "sejam bem vindos! espero que o coding tank seja uma experiência de aprendizado para todos vocês 🙂\n",
        "\n",
        "agenda:\n",
        "- apresentação dos professores\n",
        " - lucio monteiro\n",
        " - theo carvalho\n",
        "- ouvir um pouco mais sobre experiência de vocês\n",
        "- dinâmica das aulas\n",
        "- conteúdo da aula 1"
      ],
      "metadata": {
        "id": "aeme5CHvUNBZ"
      },
      "id": "aeme5CHvUNBZ"
    },
    {
      "cell_type": "markdown",
      "id": "2bd0fc7d",
      "metadata": {
        "id": "2bd0fc7d"
      },
      "source": [
        "<div style=\"background-color: lightblue; padding: 10px;\">\n",
        "    <h2> Tópicos da aula - AULA 1\n",
        "</div>\n",
        "\n",
        "- Variáveis\n",
        "- Tipos básicos\n",
        "- Entradas/Saídas\n",
        "- Operadores aritméticos, atribuição e comparação"
      ]
    },
    {
      "cell_type": "markdown",
      "id": "b8600ec3",
      "metadata": {
        "id": "b8600ec3"
      },
      "source": [
        "# Introdução\n",
        "\n",
        "Vamos explorar como o jupyter notebook funciona como também o google colab, botões, comandos e tipos de célula"
      ]
    },
    {
      "cell_type": "markdown",
      "source": [
        "criei uma célula nova no meu notebook do colab"
      ],
      "metadata": {
        "id": "5Zpppy4jcfi2"
      },
      "id": "5Zpppy4jcfi2"
    },
    {
      "cell_type": "code",
      "source": [
        "criei uma célula no meu notebook do colab"
      ],
      "metadata": {
        "colab": {
          "base_uri": "https://localhost:8080/",
          "height": 141
        },
        "id": "G0S_wvglcq_d",
        "outputId": "63942fcf-5dff-46f2-c70b-69f3b50db71c"
      },
      "id": "G0S_wvglcq_d",
      "execution_count": null,
      "outputs": [
        {
          "output_type": "error",
          "ename": "SyntaxError",
          "evalue": "ignored",
          "traceback": [
            "\u001b[0;36m  File \u001b[0;32m\"<ipython-input-1-8f6a7fd9e1a5>\"\u001b[0;36m, line \u001b[0;32m1\u001b[0m\n\u001b[0;31m    criei uma célula no meu notebook do colab\u001b[0m\n\u001b[0m          ^\u001b[0m\n\u001b[0;31mSyntaxError\u001b[0m\u001b[0;31m:\u001b[0m invalid syntax\n"
          ]
        }
      ]
    },
    {
      "cell_type": "code",
      "source": [
        "2"
      ],
      "metadata": {
        "colab": {
          "base_uri": "https://localhost:8080/"
        },
        "id": "kYQNKrZrjjHn",
        "outputId": "2eeab850-b51b-47f9-800f-a69fe37ed170"
      },
      "id": "kYQNKrZrjjHn",
      "execution_count": null,
      "outputs": [
        {
          "output_type": "execute_result",
          "data": {
            "text/plain": [
              "2"
            ]
          },
          "metadata": {},
          "execution_count": 3
        }
      ]
    },
    {
      "cell_type": "code",
      "source": [
        "3"
      ],
      "metadata": {
        "colab": {
          "base_uri": "https://localhost:8080/"
        },
        "id": "Ioo3zR68jjMM",
        "outputId": "4a839a5c-b72c-486a-ff0e-5c85f188d44b"
      },
      "id": "Ioo3zR68jjMM",
      "execution_count": null,
      "outputs": [
        {
          "output_type": "execute_result",
          "data": {
            "text/plain": [
              "3"
            ]
          },
          "metadata": {},
          "execution_count": 4
        }
      ]
    },
    {
      "cell_type": "code",
      "source": [
        "3 + 4"
      ],
      "metadata": {
        "colab": {
          "base_uri": "https://localhost:8080/"
        },
        "id": "Wb97Sf9VjjQ1",
        "outputId": "0f5f282d-653b-403c-9fdd-c0fada358dd9"
      },
      "id": "Wb97Sf9VjjQ1",
      "execution_count": null,
      "outputs": [
        {
          "output_type": "execute_result",
          "data": {
            "text/plain": [
              "7"
            ]
          },
          "metadata": {},
          "execution_count": 5
        }
      ]
    },
    {
      "cell_type": "code",
      "source": [
        "5 - 3"
      ],
      "metadata": {
        "colab": {
          "base_uri": "https://localhost:8080/"
        },
        "id": "bPZuIhWCjjVW",
        "outputId": "ef789950-c53c-4398-f626-2d5c343ae9b0"
      },
      "id": "bPZuIhWCjjVW",
      "execution_count": null,
      "outputs": [
        {
          "output_type": "execute_result",
          "data": {
            "text/plain": [
              "2"
            ]
          },
          "metadata": {},
          "execution_count": 6
        }
      ]
    },
    {
      "cell_type": "code",
      "source": [
        "2 * 5"
      ],
      "metadata": {
        "colab": {
          "base_uri": "https://localhost:8080/"
        },
        "id": "YTYTpYARjjZ4",
        "outputId": "8252e50d-326e-4c30-9248-d70544f3d937"
      },
      "id": "YTYTpYARjjZ4",
      "execution_count": null,
      "outputs": [
        {
          "output_type": "execute_result",
          "data": {
            "text/plain": [
              "10"
            ]
          },
          "metadata": {},
          "execution_count": 8
        }
      ]
    },
    {
      "cell_type": "code",
      "source": [
        "15 / 2"
      ],
      "metadata": {
        "colab": {
          "base_uri": "https://localhost:8080/"
        },
        "id": "7-fQfgWvjjen",
        "outputId": "de274b0b-cc03-4dbc-cec3-f102e2784ef0"
      },
      "id": "7-fQfgWvjjen",
      "execution_count": null,
      "outputs": [
        {
          "output_type": "execute_result",
          "data": {
            "text/plain": [
              "7.5"
            ]
          },
          "metadata": {},
          "execution_count": 9
        }
      ]
    },
    {
      "cell_type": "code",
      "source": [
        "2 ** 3"
      ],
      "metadata": {
        "colab": {
          "base_uri": "https://localhost:8080/"
        },
        "id": "GcHW5xUPjjjX",
        "outputId": "e748ec4f-7dd5-4a5f-f1b9-e8275d623ea4"
      },
      "id": "GcHW5xUPjjjX",
      "execution_count": null,
      "outputs": [
        {
          "output_type": "execute_result",
          "data": {
            "text/plain": [
              "8"
            ]
          },
          "metadata": {},
          "execution_count": 11
        }
      ]
    },
    {
      "cell_type": "code",
      "source": [
        "//"
      ],
      "metadata": {
        "id": "r9a6wRobjjne"
      },
      "id": "r9a6wRobjjne",
      "execution_count": null,
      "outputs": []
    },
    {
      "cell_type": "code",
      "source": [
        "15 / 2"
      ],
      "metadata": {
        "colab": {
          "base_uri": "https://localhost:8080/"
        },
        "id": "meQIPu8Ajjsf",
        "outputId": "aea86517-ea94-4ab6-bf49-700cf12a92c8"
      },
      "id": "meQIPu8Ajjsf",
      "execution_count": null,
      "outputs": [
        {
          "output_type": "execute_result",
          "data": {
            "text/plain": [
              "7.5"
            ]
          },
          "metadata": {},
          "execution_count": 12
        }
      ]
    },
    {
      "cell_type": "code",
      "source": [
        "15 // 2"
      ],
      "metadata": {
        "colab": {
          "base_uri": "https://localhost:8080/"
        },
        "id": "Dztegm6OeXzt",
        "outputId": "68128946-2566-460d-8bae-f59cd82a6a16"
      },
      "id": "Dztegm6OeXzt",
      "execution_count": null,
      "outputs": [
        {
          "output_type": "execute_result",
          "data": {
            "text/plain": [
              "7"
            ]
          },
          "metadata": {},
          "execution_count": 13
        }
      ]
    },
    {
      "cell_type": "code",
      "source": [
        "10 / 3"
      ],
      "metadata": {
        "colab": {
          "base_uri": "https://localhost:8080/"
        },
        "id": "jaiWpp7QefiJ",
        "outputId": "7d0da97f-603c-440e-890d-5ed2e42ad955"
      },
      "id": "jaiWpp7QefiJ",
      "execution_count": null,
      "outputs": [
        {
          "output_type": "execute_result",
          "data": {
            "text/plain": [
              "3.3333333333333335"
            ]
          },
          "metadata": {},
          "execution_count": 14
        }
      ]
    },
    {
      "cell_type": "code",
      "source": [
        "10 // 3"
      ],
      "metadata": {
        "colab": {
          "base_uri": "https://localhost:8080/"
        },
        "id": "MC7gR-4refpU",
        "outputId": "6b273ad6-5c42-40f6-f5ca-c37898e4eb32"
      },
      "id": "MC7gR-4refpU",
      "execution_count": null,
      "outputs": [
        {
          "output_type": "execute_result",
          "data": {
            "text/plain": [
              "3"
            ]
          },
          "metadata": {},
          "execution_count": 15
        }
      ]
    },
    {
      "cell_type": "code",
      "source": [
        "15 % 2"
      ],
      "metadata": {
        "colab": {
          "base_uri": "https://localhost:8080/"
        },
        "id": "Ky-VlbubejwU",
        "outputId": "72f0d85e-342b-43cd-f182-ef60f64e1dd4"
      },
      "id": "Ky-VlbubejwU",
      "execution_count": null,
      "outputs": [
        {
          "output_type": "execute_result",
          "data": {
            "text/plain": [
              "1"
            ]
          },
          "metadata": {},
          "execution_count": 16
        }
      ]
    },
    {
      "cell_type": "markdown",
      "id": "fa313866",
      "metadata": {
        "id": "fa313866"
      },
      "source": [
        "1"
      ]
    },
    {
      "cell_type": "markdown",
      "id": "2f4c88b7",
      "metadata": {
        "id": "2f4c88b7"
      },
      "source": [
        "**Operadores Aritméticos**\n",
        "\n",
        "|     Operador    |     Nome                 |     Função                                                                       |\n",
        "|-----------------|--------------------------|----------------------------------------------------------------------------------|\n",
        "|     +           |     Adição               |     Realiza   a soma de ambos operandos.                                         |\n",
        "|     -           |     Subtração            |     Realiza   a subtração de ambos operandos.                                    |\n",
        "|     *           |     Multiplicação        |     Realiza   a multiplicação de ambos operandos.                                |\n",
        "|     /           |     Divisão              |     Realiza   a Divisão de ambos operandos.                                      |\n",
        "|     //          |     Divisão   inteira    |     Realiza   a divisão entre operandos e a parte decimal de ambos operandos.    |\n",
        "|     %           |     Módulo               |     Retorna   o resto da divisão de ambos operandos.                             |\n",
        "|     **          |     Exponenciação        |     Retorna   o resultado da elevação da potência pelo outro.                    |"
      ]
    },
    {
      "cell_type": "markdown",
      "id": "5393993e",
      "metadata": {
        "id": "5393993e"
      },
      "source": [
        "Mas como podemos armazenar esses valores?"
      ]
    },
    {
      "cell_type": "markdown",
      "id": "c3208653",
      "metadata": {
        "id": "c3208653"
      },
      "source": [
        "# Variáveis\n",
        "\n",
        "Variável é o nome dado ao tipo de conteúdo que pode apresentar diferentes valores enquanto o sistema está em execução. Tudo dependerá do comando do usuário e o tipo de operação que é realizado.\n",
        "\n",
        "Imagine que você conhece uma nova pessoa. A variável seria o lugar no seu cérebro no qual você guarda, por exemplo, o nome desta pessoa, ou seja, é alocado um espaço para armazenar esta informação e posteriormente é passado o valor referente aquele dado.\n",
        "\n",
        "`nome = \"Theo\"`\n",
        "\n",
        "## Tipos básicos\n",
        "\n",
        "Podemos ter informações relacionadas às outras pessoas como nome, idade e salário. Cada uma delas possui o que chamamos de tipos de variável. Os tipos de dados são os seguintes:"
      ]
    },
    {
      "cell_type": "code",
      "source": [
        "nome_variavel = \"conteudo\""
      ],
      "metadata": {
        "id": "AwcX87tejmFD"
      },
      "id": "AwcX87tejmFD",
      "execution_count": null,
      "outputs": []
    },
    {
      "cell_type": "code",
      "source": [
        "nome = \"Theo\"\n",
        "type(nome)\n",
        "# quando usamos hashtag, estamos comentando no código. isso significa que o python, não tentará executa-lo.\n",
        "# str, abreviação para string"
      ],
      "metadata": {
        "colab": {
          "base_uri": "https://localhost:8080/"
        },
        "id": "dYMW9RMkjmKY",
        "outputId": "6f10a194-bfa7-4e68-bd71-6c933a345407"
      },
      "id": "dYMW9RMkjmKY",
      "execution_count": null,
      "outputs": [
        {
          "output_type": "execute_result",
          "data": {
            "text/plain": [
              "str"
            ]
          },
          "metadata": {},
          "execution_count": 19
        }
      ]
    },
    {
      "cell_type": "code",
      "source": [
        "outro_nome = \"Ada\"\n",
        "type(outro_nome)"
      ],
      "metadata": {
        "colab": {
          "base_uri": "https://localhost:8080/"
        },
        "id": "3GelH4wvjmPd",
        "outputId": "8871890a-5f51-4a8b-8c91-93903ae16341"
      },
      "id": "3GelH4wvjmPd",
      "execution_count": null,
      "outputs": [
        {
          "output_type": "execute_result",
          "data": {
            "text/plain": [
              "str"
            ]
          },
          "metadata": {},
          "execution_count": 20
        }
      ]
    },
    {
      "cell_type": "code",
      "source": [
        "idade = 21\n",
        "type(idade)\n",
        "# tipo inteiro"
      ],
      "metadata": {
        "colab": {
          "base_uri": "https://localhost:8080/"
        },
        "id": "YEWZmLpwjmVG",
        "outputId": "428bcd8e-3580-4f33-a726-bd0725b24f09"
      },
      "id": "YEWZmLpwjmVG",
      "execution_count": null,
      "outputs": [
        {
          "output_type": "execute_result",
          "data": {
            "text/plain": [
              "int"
            ]
          },
          "metadata": {},
          "execution_count": 21
        }
      ]
    },
    {
      "cell_type": "code",
      "source": [
        "preco = 7,10 # cria uma tupla e não um número decimal\n",
        "# palpites:\n",
        "# - erro de sintaxe\n",
        "# - float (tipo de número decimal)\n",
        "# - executa o código, criando uma tupla"
      ],
      "metadata": {
        "id": "pOa-TxkfjmZ0"
      },
      "id": "pOa-TxkfjmZ0",
      "execution_count": null,
      "outputs": []
    },
    {
      "cell_type": "code",
      "source": [
        "# se eu quero criar um número decimal\n",
        "preco = 7.10\n",
        "preco + 10\n",
        "type(preco) # criamos um tipo float -- que é um decimal"
      ],
      "metadata": {
        "colab": {
          "base_uri": "https://localhost:8080/"
        },
        "id": "QG98bxoXjmeh",
        "outputId": "8b7c5ab4-2bd9-47d4-ca4d-5e7114fa2c25"
      },
      "id": "QG98bxoXjmeh",
      "execution_count": null,
      "outputs": [
        {
          "output_type": "execute_result",
          "data": {
            "text/plain": [
              "float"
            ]
          },
          "metadata": {},
          "execution_count": 27
        }
      ]
    },
    {
      "cell_type": "code",
      "source": [
        "teste = \"7.10\"\n",
        "type(teste)"
      ],
      "metadata": {
        "colab": {
          "base_uri": "https://localhost:8080/"
        },
        "id": "IB0bCQ2Ujmjf",
        "outputId": "969bc5e5-a8a1-4910-b2db-8f7549bacebc"
      },
      "id": "IB0bCQ2Ujmjf",
      "execution_count": null,
      "outputs": [
        {
          "output_type": "execute_result",
          "data": {
            "text/plain": [
              "str"
            ]
          },
          "metadata": {},
          "execution_count": 28
        }
      ]
    },
    {
      "cell_type": "code",
      "source": [
        "# booleano. pode ser verdadeiro ou falso\n",
        "certificado = True # a primeira precisa ser maiúscula\n",
        "certificado = False"
      ],
      "metadata": {
        "id": "iMKhF67hjmod"
      },
      "id": "iMKhF67hjmod",
      "execution_count": null,
      "outputs": []
    },
    {
      "cell_type": "code",
      "source": [
        "type(certificado)"
      ],
      "metadata": {
        "colab": {
          "base_uri": "https://localhost:8080/"
        },
        "id": "UIMwNhTAjmtp",
        "outputId": "3cbeec74-90e6-4894-e53c-83168eac1076"
      },
      "id": "UIMwNhTAjmtp",
      "execution_count": null,
      "outputs": [
        {
          "output_type": "execute_result",
          "data": {
            "text/plain": [
              "bool"
            ]
          },
          "metadata": {},
          "execution_count": 34
        }
      ]
    },
    {
      "cell_type": "markdown",
      "id": "945f06b6",
      "metadata": {
        "id": "945f06b6"
      },
      "source": [
        "Idade é diferente de idade"
      ]
    },
    {
      "cell_type": "markdown",
      "id": "ae10d9dc",
      "metadata": {
        "id": "ae10d9dc"
      },
      "source": [
        "# Entradas\n",
        "\n",
        "Para solicitarmos entradas de informações a serem fornecidas pelo usuário podemos utilizar a função input. Com ela você poderá (opcional) passar uma mensagem instrutiva ao usuário do que deseja que ele insira.  \n",
        "No exemplo abaixo utilizaremos o input."
      ]
    },
    {
      "cell_type": "code",
      "source": [
        "input()"
      ],
      "metadata": {
        "colab": {
          "base_uri": "https://localhost:8080/",
          "height": 53
        },
        "id": "DUTePer-jpVj",
        "outputId": "df2f28d6-67f7-4306-bfd7-530cce197392"
      },
      "id": "DUTePer-jpVj",
      "execution_count": null,
      "outputs": [
        {
          "name": "stdout",
          "output_type": "stream",
          "text": [
            "isso é uma entrada?\n"
          ]
        },
        {
          "output_type": "execute_result",
          "data": {
            "text/plain": [
              "'isso é uma entrada?'"
            ],
            "application/vnd.google.colaboratory.intrinsic+json": {
              "type": "string"
            }
          },
          "metadata": {},
          "execution_count": 35
        }
      ]
    },
    {
      "cell_type": "markdown",
      "id": "a9be572a",
      "metadata": {
        "id": "a9be572a"
      },
      "source": [
        "**Intuição**  \n",
        "Veja que ele funciona, porém sem uma mensagem de qual informação é solicitada não é possível identificar o que se deve passar ao programa."
      ]
    },
    {
      "cell_type": "code",
      "source": [
        "input('insira sua idade: ')"
      ],
      "metadata": {
        "colab": {
          "base_uri": "https://localhost:8080/",
          "height": 53
        },
        "id": "iYW_naF1jqKH",
        "outputId": "ef089017-83d0-42c5-b2e5-aff8b945f7c4"
      },
      "id": "iYW_naF1jqKH",
      "execution_count": null,
      "outputs": [
        {
          "name": "stdout",
          "output_type": "stream",
          "text": [
            "insira sua idade: 7.10\n"
          ]
        },
        {
          "output_type": "execute_result",
          "data": {
            "text/plain": [
              "'7.10'"
            ],
            "application/vnd.google.colaboratory.intrinsic+json": {
              "type": "string"
            }
          },
          "metadata": {},
          "execution_count": 37
        }
      ]
    },
    {
      "cell_type": "markdown",
      "id": "8dec4efe",
      "metadata": {
        "id": "8dec4efe"
      },
      "source": [
        "**Variável**  \n",
        "Podemos guardar o valor passado pelo usuário numa variável"
      ]
    },
    {
      "cell_type": "code",
      "source": [
        "idade = input(\"insira sua idade: \")\n"
      ],
      "metadata": {
        "colab": {
          "base_uri": "https://localhost:8080/"
        },
        "id": "lq4SxKlMjq-P",
        "outputId": "dfab210c-2873-4d2b-824c-16a9db59dfed"
      },
      "id": "lq4SxKlMjq-P",
      "execution_count": null,
      "outputs": [
        {
          "name": "stdout",
          "output_type": "stream",
          "text": [
            "insira sua idade: 45\n"
          ]
        }
      ]
    },
    {
      "cell_type": "markdown",
      "id": "1e00f439",
      "metadata": {
        "id": "1e00f439"
      },
      "source": [
        "Repare nas aspas que saem quando utilizamos apenas a função input. Isso quer dizer que este valor capturado pelo programa é uma string, independente do que o usuário insira."
      ]
    },
    {
      "cell_type": "code",
      "source": [
        "idade"
      ],
      "metadata": {
        "colab": {
          "base_uri": "https://localhost:8080/",
          "height": 35
        },
        "id": "iAUzOOkLmQX4",
        "outputId": "0fa915ba-5b2d-44df-a4df-bec29ad81cfb"
      },
      "id": "iAUzOOkLmQX4",
      "execution_count": null,
      "outputs": [
        {
          "output_type": "execute_result",
          "data": {
            "text/plain": [
              "'45'"
            ],
            "application/vnd.google.colaboratory.intrinsic+json": {
              "type": "string"
            }
          },
          "metadata": {},
          "execution_count": 45
        }
      ]
    },
    {
      "cell_type": "code",
      "source": [
        "type(idade)"
      ],
      "metadata": {
        "colab": {
          "base_uri": "https://localhost:8080/"
        },
        "id": "VC-mAS9Yjrz3",
        "outputId": "ba713fc3-6bc8-4844-fb40-54e3fe360a3a"
      },
      "id": "VC-mAS9Yjrz3",
      "execution_count": null,
      "outputs": [
        {
          "output_type": "execute_result",
          "data": {
            "text/plain": [
              "str"
            ]
          },
          "metadata": {},
          "execution_count": 46
        }
      ]
    },
    {
      "cell_type": "markdown",
      "id": "a0007819",
      "metadata": {
        "id": "a0007819"
      },
      "source": [
        "**Convertendo o tipo de dado**\n",
        "\n",
        "Neste caso é interessante que a idade seja um número, visto que em geral o utilizamos para realizar contas, por exemplo. Para converter este valor para um inteiro, podemos fazer da seguinte forma:"
      ]
    },
    {
      "cell_type": "code",
      "source": [
        "int(idade)"
      ],
      "metadata": {
        "colab": {
          "base_uri": "https://localhost:8080/"
        },
        "id": "wiiQ5qWtjtRK",
        "outputId": "e19f23b5-954b-40eb-8654-fd2959b75c10"
      },
      "id": "wiiQ5qWtjtRK",
      "execution_count": null,
      "outputs": [
        {
          "output_type": "execute_result",
          "data": {
            "text/plain": [
              "45"
            ]
          },
          "metadata": {},
          "execution_count": 47
        }
      ]
    },
    {
      "cell_type": "code",
      "source": [
        "float(idade)"
      ],
      "metadata": {
        "colab": {
          "base_uri": "https://localhost:8080/"
        },
        "id": "GsSsTFCamr2g",
        "outputId": "798f888b-82ea-49ae-d323-51fc3e341571"
      },
      "id": "GsSsTFCamr2g",
      "execution_count": null,
      "outputs": [
        {
          "output_type": "execute_result",
          "data": {
            "text/plain": [
              "45.0"
            ]
          },
          "metadata": {},
          "execution_count": 48
        }
      ]
    },
    {
      "cell_type": "code",
      "source": [
        "bool(idade)"
      ],
      "metadata": {
        "colab": {
          "base_uri": "https://localhost:8080/"
        },
        "id": "WkcMcHH7jtXs",
        "outputId": "45099efb-dbc4-493b-a2a2-4c794745cae2"
      },
      "id": "WkcMcHH7jtXs",
      "execution_count": null,
      "outputs": [
        {
          "output_type": "execute_result",
          "data": {
            "text/plain": [
              "True"
            ]
          },
          "metadata": {},
          "execution_count": 49
        }
      ]
    },
    {
      "cell_type": "code",
      "source": [
        "str(float(idade))\n",
        "# '45' --> 45.0 --> '45.0'"
      ],
      "metadata": {
        "colab": {
          "base_uri": "https://localhost:8080/",
          "height": 35
        },
        "id": "0WXetL1OjteI",
        "outputId": "1f0cb8bf-2bc9-4e53-b1a9-93788e73092a"
      },
      "id": "0WXetL1OjteI",
      "execution_count": null,
      "outputs": [
        {
          "output_type": "execute_result",
          "data": {
            "text/plain": [
              "'45.0'"
            ],
            "application/vnd.google.colaboratory.intrinsic+json": {
              "type": "string"
            }
          },
          "metadata": {},
          "execution_count": 50
        }
      ]
    },
    {
      "cell_type": "code",
      "source": [
        "float('theo')"
      ],
      "metadata": {
        "colab": {
          "base_uri": "https://localhost:8080/",
          "height": 176
        },
        "id": "X7jc9C7-jtj6",
        "outputId": "f94ed10a-7fa6-4a16-828a-bbd80b3f03d8"
      },
      "id": "X7jc9C7-jtj6",
      "execution_count": null,
      "outputs": [
        {
          "output_type": "error",
          "ename": "ValueError",
          "evalue": "ignored",
          "traceback": [
            "\u001b[0;31m---------------------------------------------------------------------------\u001b[0m",
            "\u001b[0;31mValueError\u001b[0m                                Traceback (most recent call last)",
            "\u001b[0;32m<ipython-input-51-c63d3ef0cd64>\u001b[0m in \u001b[0;36m<cell line: 1>\u001b[0;34m()\u001b[0m\n\u001b[0;32m----> 1\u001b[0;31m \u001b[0mfloat\u001b[0m\u001b[0;34m(\u001b[0m\u001b[0;34m'theo'\u001b[0m\u001b[0;34m)\u001b[0m\u001b[0;34m\u001b[0m\u001b[0;34m\u001b[0m\u001b[0m\n\u001b[0m",
            "\u001b[0;31mValueError\u001b[0m: could not convert string to float: 'theo'"
          ]
        }
      ]
    },
    {
      "cell_type": "code",
      "source": [
        "bool(\"oi\")"
      ],
      "metadata": {
        "colab": {
          "base_uri": "https://localhost:8080/"
        },
        "id": "3-it5Vr3jtp7",
        "outputId": "f3eab0bc-b2d3-4691-8300-ad17ba9f0b1a"
      },
      "id": "3-it5Vr3jtp7",
      "execution_count": null,
      "outputs": [
        {
          "output_type": "execute_result",
          "data": {
            "text/plain": [
              "True"
            ]
          },
          "metadata": {},
          "execution_count": 54
        }
      ]
    },
    {
      "cell_type": "code",
      "source": [
        "bool(\"True\")"
      ],
      "metadata": {
        "colab": {
          "base_uri": "https://localhost:8080/"
        },
        "id": "40IBrB1Bjtwq",
        "outputId": "98dd0e12-87a0-4808-8031-da627c0481cf"
      },
      "id": "40IBrB1Bjtwq",
      "execution_count": null,
      "outputs": [
        {
          "output_type": "execute_result",
          "data": {
            "text/plain": [
              "True"
            ]
          },
          "metadata": {},
          "execution_count": 55
        }
      ]
    },
    {
      "cell_type": "code",
      "source": [
        "bool(\"false\")"
      ],
      "metadata": {
        "colab": {
          "base_uri": "https://localhost:8080/"
        },
        "id": "b9A14eFmqD9d",
        "outputId": "9fb1ffd1-8cb4-4fe0-f0b7-27cb7fc8eba5"
      },
      "id": "b9A14eFmqD9d",
      "execution_count": null,
      "outputs": [
        {
          "output_type": "execute_result",
          "data": {
            "text/plain": [
              "True"
            ]
          },
          "metadata": {},
          "execution_count": 56
        }
      ]
    },
    {
      "cell_type": "code",
      "source": [
        "bool(\"False\")"
      ],
      "metadata": {
        "colab": {
          "base_uri": "https://localhost:8080/"
        },
        "id": "dVwXU6AWqG0N",
        "outputId": "97ece083-6089-419b-d469-b444f231e5de"
      },
      "id": "dVwXU6AWqG0N",
      "execution_count": null,
      "outputs": [
        {
          "output_type": "execute_result",
          "data": {
            "text/plain": [
              "True"
            ]
          },
          "metadata": {},
          "execution_count": 57
        }
      ]
    },
    {
      "cell_type": "code",
      "source": [
        "bool(\"\")"
      ],
      "metadata": {
        "colab": {
          "base_uri": "https://localhost:8080/"
        },
        "id": "6Kt2u9zHqQuO",
        "outputId": "9103afd6-4adc-425d-bf0b-5f154a612e15"
      },
      "id": "6Kt2u9zHqQuO",
      "execution_count": null,
      "outputs": [
        {
          "output_type": "execute_result",
          "data": {
            "text/plain": [
              "False"
            ]
          },
          "metadata": {},
          "execution_count": 58
        }
      ]
    },
    {
      "cell_type": "markdown",
      "id": "295fd764",
      "metadata": {
        "id": "295fd764"
      },
      "source": [
        "E para simplificar ainda mais é comum que já realizemos a conversão da variável logo na chamada do input."
      ]
    },
    {
      "cell_type": "code",
      "source": [
        "idade = int(input(\"insira sua idade: \"))\n"
      ],
      "metadata": {
        "colab": {
          "base_uri": "https://localhost:8080/"
        },
        "id": "xSAHIVOIju4d",
        "outputId": "2060e57d-77a0-453e-9299-839346a44b86"
      },
      "id": "xSAHIVOIju4d",
      "execution_count": null,
      "outputs": [
        {
          "name": "stdout",
          "output_type": "stream",
          "text": [
            "insira sua idade: 45\n"
          ]
        }
      ]
    },
    {
      "cell_type": "code",
      "source": [
        "type(idade)"
      ],
      "metadata": {
        "colab": {
          "base_uri": "https://localhost:8080/"
        },
        "id": "hq0sgFhyju9G",
        "outputId": "72784bac-cb33-4a61-f2f8-d9458404b052"
      },
      "id": "hq0sgFhyju9G",
      "execution_count": null,
      "outputs": [
        {
          "output_type": "execute_result",
          "data": {
            "text/plain": [
              "int"
            ]
          },
          "metadata": {},
          "execution_count": 53
        }
      ]
    },
    {
      "cell_type": "markdown",
      "id": "fa2168c4",
      "metadata": {
        "id": "fa2168c4"
      },
      "source": [
        "## Saídas\n",
        "\n",
        "Em diversas situações desejamos imprimir na tela o resultado de alguma operação que realizamos ou simplesmente emitirmos uma mensagem, para estas situações utilizamos o `print`."
      ]
    },
    {
      "cell_type": "code",
      "source": [
        "print('theo')\n",
        "print()\n",
        "print(\"carvalho\")"
      ],
      "metadata": {
        "colab": {
          "base_uri": "https://localhost:8080/"
        },
        "id": "0-F_XnporJCt",
        "outputId": "470b776b-e497-4b73-8d77-df35050a527c"
      },
      "id": "0-F_XnporJCt",
      "execution_count": null,
      "outputs": [
        {
          "output_type": "stream",
          "name": "stdout",
          "text": [
            "theo\n",
            "\n",
            "carvalho\n"
          ]
        }
      ]
    },
    {
      "cell_type": "code",
      "source": [
        "# print == imprimir (print é igual a imprimir)\n",
        "print(\"hello world\")"
      ],
      "metadata": {
        "colab": {
          "base_uri": "https://localhost:8080/"
        },
        "id": "j96piSwSjwyV",
        "outputId": "7b4f6c9d-856e-4316-ef60-b33139b8beb0"
      },
      "id": "j96piSwSjwyV",
      "execution_count": null,
      "outputs": [
        {
          "output_type": "stream",
          "name": "stdout",
          "text": [
            "hello world\n"
          ]
        }
      ]
    },
    {
      "cell_type": "code",
      "source": [
        "print('podemos pular linha \\ncom este símbolo')"
      ],
      "metadata": {
        "colab": {
          "base_uri": "https://localhost:8080/"
        },
        "id": "bLMmdENgjw59",
        "outputId": "a0bebb16-f820-499e-b173-3e6ec21c3bd7"
      },
      "id": "bLMmdENgjw59",
      "execution_count": null,
      "outputs": [
        {
          "output_type": "stream",
          "name": "stdout",
          "text": [
            "podemos pular linha \n",
            "com este símbolo\n"
          ]
        }
      ]
    },
    {
      "cell_type": "code",
      "source": [
        "print('podemos pular linha \\tcom este símbolo')"
      ],
      "metadata": {
        "colab": {
          "base_uri": "https://localhost:8080/"
        },
        "id": "EbbX3QiKjw_u",
        "outputId": "13909862-90ed-45d5-91bf-90e58d0bd575"
      },
      "id": "EbbX3QiKjw_u",
      "execution_count": null,
      "outputs": [
        {
          "output_type": "stream",
          "name": "stdout",
          "text": [
            "podemos pular linha \tcom este símbolo\n"
          ]
        }
      ]
    },
    {
      "cell_type": "code",
      "source": [],
      "metadata": {
        "id": "2zRbRuF3jxFN"
      },
      "id": "2zRbRuF3jxFN",
      "execution_count": null,
      "outputs": []
    },
    {
      "cell_type": "code",
      "source": [],
      "metadata": {
        "id": "BRvOa5W7jxKp"
      },
      "id": "BRvOa5W7jxKp",
      "execution_count": null,
      "outputs": []
    },
    {
      "cell_type": "code",
      "source": [],
      "metadata": {
        "id": "a87sdNObjxQP"
      },
      "id": "a87sdNObjxQP",
      "execution_count": null,
      "outputs": []
    },
    {
      "cell_type": "code",
      "source": [],
      "metadata": {
        "id": "XyntKKyLjxV2"
      },
      "id": "XyntKKyLjxV2",
      "execution_count": null,
      "outputs": []
    },
    {
      "cell_type": "code",
      "source": [],
      "metadata": {
        "id": "EMKSy0xsjxbx"
      },
      "id": "EMKSy0xsjxbx",
      "execution_count": null,
      "outputs": []
    },
    {
      "cell_type": "markdown",
      "id": "c575d984",
      "metadata": {
        "id": "c575d984"
      },
      "source": [
        "**Mais de um argumento**  \n",
        "Para imprimir mais de uma informação, o print permite inserir quantos argumentos forem necessários, desde que separados por vírgula. Veja o exemplo:"
      ]
    },
    {
      "cell_type": "code",
      "source": [
        "nome = \"theo\"\n",
        "print(\"olá\", \"eu sou o\", nome, \"muito prazer\", \"vamos aprender sobre\", \"os recursos da função print\")"
      ],
      "metadata": {
        "colab": {
          "base_uri": "https://localhost:8080/"
        },
        "id": "hWYpATGwjyuD",
        "outputId": "e5ebb865-6040-42e8-9124-401e6341e70d"
      },
      "id": "hWYpATGwjyuD",
      "execution_count": null,
      "outputs": [
        {
          "output_type": "stream",
          "name": "stdout",
          "text": [
            "olá eu sou o theo muito prazer vamos aprender sobre os recursos da função print\n"
          ]
        }
      ]
    },
    {
      "cell_type": "code",
      "source": [
        "print(\"olá\", \"eu sou o\", nome, \"muito prazer\", \"vamos aprender sobre\", \"os recursos da função print\", end=\".\")"
      ],
      "metadata": {
        "colab": {
          "base_uri": "https://localhost:8080/"
        },
        "id": "JotjOVKyjyw3",
        "outputId": "96e5ee78-d5ae-4f43-8406-3acd832cf768"
      },
      "id": "JotjOVKyjyw3",
      "execution_count": null,
      "outputs": [
        {
          "output_type": "stream",
          "name": "stdout",
          "text": [
            "olá eu sou o theo muito prazer vamos aprender sobre os recursos da função print."
          ]
        }
      ]
    },
    {
      "cell_type": "markdown",
      "id": "944f604d",
      "metadata": {
        "id": "944f604d"
      },
      "source": [
        "**Print de variáveis**  \n",
        "Também é possível imprimir variáveis de forma simples, basta passar o nome dado para a variável dentro dos parênteses."
      ]
    },
    {
      "cell_type": "code",
      "source": [
        "print(idade)"
      ],
      "metadata": {
        "colab": {
          "base_uri": "https://localhost:8080/"
        },
        "id": "Eex01XDcjzuf",
        "outputId": "a72bc63c-749a-4631-e88b-faeb46cb2213"
      },
      "id": "Eex01XDcjzuf",
      "execution_count": null,
      "outputs": [
        {
          "output_type": "stream",
          "name": "stdout",
          "text": [
            "45\n"
          ]
        }
      ]
    },
    {
      "cell_type": "markdown",
      "id": "ba3cfb0e",
      "metadata": {
        "id": "ba3cfb0e"
      },
      "source": [
        "E se for necessário imprimir a mensagem \"Olá, eu sou Theo Carvalho\", de forma que o nome e o sobrenome sejam provenientes de variáveis nome e sobrenome"
      ]
    },
    {
      "cell_type": "code",
      "source": [
        "nome = \"theo\"\n",
        "sobrenome = \"carvalho\"\n",
        "\n",
        "print('olá, eu sou', nome, sobrenome, \"e tenho\", idade, \"anos\")"
      ],
      "metadata": {
        "colab": {
          "base_uri": "https://localhost:8080/"
        },
        "id": "XIwUzAJDkiKX",
        "outputId": "f0d53b97-d16c-4ca1-db31-df682c438735"
      },
      "id": "XIwUzAJDkiKX",
      "execution_count": null,
      "outputs": [
        {
          "output_type": "stream",
          "name": "stdout",
          "text": [
            "olá, eu sou theo carvalho e tenho 45 anos\n"
          ]
        }
      ]
    },
    {
      "cell_type": "code",
      "source": [
        "print(\"olá, eu sou o {} {} e tenho {} anos\".format(nome,sobrenome,idade))"
      ],
      "metadata": {
        "colab": {
          "base_uri": "https://localhost:8080/"
        },
        "id": "AJscfMlSkiPX",
        "outputId": "ee160d32-3503-4f15-bfe5-76719d53bb1d"
      },
      "id": "AJscfMlSkiPX",
      "execution_count": null,
      "outputs": [
        {
          "output_type": "stream",
          "name": "stdout",
          "text": [
            "olá, eu sou o theo carvalho e tenho 45 anos\n"
          ]
        }
      ]
    },
    {
      "cell_type": "code",
      "source": [],
      "metadata": {
        "id": "LAguoDBGkiT-"
      },
      "id": "LAguoDBGkiT-",
      "execution_count": null,
      "outputs": []
    },
    {
      "cell_type": "markdown",
      "id": "08b9c448",
      "metadata": {
        "id": "08b9c448"
      },
      "source": [
        "**Print com f string**  \n",
        "Outra forma de utilizarmos o print com variáveis é por meio do que chamamos de f string."
      ]
    },
    {
      "cell_type": "code",
      "source": [
        "print(f\"Olá, eu sou {nome} {sobrenome} e tenho {idade} anos\")"
      ],
      "metadata": {
        "colab": {
          "base_uri": "https://localhost:8080/"
        },
        "id": "oCMG_vKNkjUS",
        "outputId": "cc6b93a4-9be5-4085-d44c-9098e13e9b47"
      },
      "id": "oCMG_vKNkjUS",
      "execution_count": null,
      "outputs": [
        {
          "output_type": "stream",
          "name": "stdout",
          "text": [
            "Olá, eu sou theo carvalho e tenho 45 anos\n"
          ]
        }
      ]
    },
    {
      "cell_type": "markdown",
      "id": "99da0d47",
      "metadata": {
        "id": "99da0d47"
      },
      "source": [
        "**Bora praticar!**  \n",
        "Escreva um programa que receba seu nome, sua idade, hobby e escreva uma única sentença que seja, por exemplo, \"Meu nome é Renata, tenho 22 anos e meu hobby é viajar\""
      ]
    },
    {
      "cell_type": "code",
      "source": [
        "nome = input(\"qual seu nome?\")\n",
        "idade = input(\"qual sua idade?\")\n",
        "hobby = input(\"qual seu hobby?\")\n",
        "\n",
        "print(f\"Meu nome é {nome}, tenho {idade} anos e meu hobby é {hobby}\")"
      ],
      "metadata": {
        "colab": {
          "base_uri": "https://localhost:8080/"
        },
        "id": "7m3cdluKkkYh",
        "outputId": "6a360f3e-6fd6-48be-ea99-fb4ec4d4acac"
      },
      "id": "7m3cdluKkkYh",
      "execution_count": null,
      "outputs": [
        {
          "output_type": "stream",
          "name": "stdout",
          "text": [
            "qual seu nome?theo\n",
            "qual sua idade?50\n",
            "qual seu hobby?jogar xadrez\n",
            "Meu nome é theo, tenho 50 anos e meu hobby é jogar xadrez\n"
          ]
        }
      ]
    },
    {
      "cell_type": "code",
      "source": [
        "2023 - int(idade)"
      ],
      "metadata": {
        "colab": {
          "base_uri": "https://localhost:8080/"
        },
        "id": "biixo-ImkkbI",
        "outputId": "506f6a84-8a3c-4823-81e2-6b1dbc2f4dac"
      },
      "id": "biixo-ImkkbI",
      "execution_count": null,
      "outputs": [
        {
          "output_type": "execute_result",
          "data": {
            "text/plain": [
              "1973"
            ]
          },
          "metadata": {},
          "execution_count": 86
        }
      ]
    },
    {
      "cell_type": "markdown",
      "id": "5ffd55f4",
      "metadata": {
        "id": "5ffd55f4"
      },
      "source": [
        "# Operadores Algébricos e de Atribuição\n",
        "Rotineiramente nos deparamos com a necessidade de realizarmos cálculos, para isso utilizamos os operadores algébricos como conhecemos na matemática tradicional. Mas como usar com variáveis?"
      ]
    },
    {
      "cell_type": "code",
      "source": [
        "valor_01 = 10\n",
        "valor_02 = 15\n",
        "\n",
        "print(valor_01 + valor_02)"
      ],
      "metadata": {
        "colab": {
          "base_uri": "https://localhost:8080/"
        },
        "id": "xpjJWlvDkluw",
        "outputId": "2700c24f-02dd-41cf-d41a-f47cc2cea2c1"
      },
      "id": "xpjJWlvDkluw",
      "execution_count": null,
      "outputs": [
        {
          "output_type": "stream",
          "name": "stdout",
          "text": [
            "25\n"
          ]
        }
      ]
    },
    {
      "cell_type": "code",
      "source": [
        "x = 5\n",
        "y = 2\n",
        "\n",
        "z = x + y\n",
        "\n",
        "\n",
        "print(\"valor de x =\", x )\n",
        "print(\"valor de x =\", y )\n",
        "print(\"valor de x =\", z )\n",
        "\n",
        "x = x + 1\n",
        "\n",
        "print(\"valor de x =\", x)"
      ],
      "metadata": {
        "colab": {
          "base_uri": "https://localhost:8080/"
        },
        "id": "EOcl7M82klxR",
        "outputId": "9adc9719-95ec-4ca1-e1d6-1cff270a8c0c"
      },
      "id": "EOcl7M82klxR",
      "execution_count": null,
      "outputs": [
        {
          "output_type": "stream",
          "name": "stdout",
          "text": [
            "valor de x = 5\n",
            "valor de x = 2\n",
            "valor de x = 7\n",
            "valor de x = 6\n"
          ]
        }
      ]
    },
    {
      "cell_type": "code",
      "source": [
        "x = x + 1\n",
        "x"
      ],
      "metadata": {
        "colab": {
          "base_uri": "https://localhost:8080/"
        },
        "id": "EYqu98Mnz2oZ",
        "outputId": "5f74b57e-1e33-4f6f-cfd1-c7bc45bab91f"
      },
      "id": "EYqu98Mnz2oZ",
      "execution_count": null,
      "outputs": [
        {
          "output_type": "execute_result",
          "data": {
            "text/plain": [
              "8"
            ]
          },
          "metadata": {},
          "execution_count": 92
        }
      ]
    },
    {
      "cell_type": "markdown",
      "id": "1c7dee09",
      "metadata": {
        "id": "1c7dee09"
      },
      "source": [
        "**Operadores de atribuição**\n",
        "\n",
        "|     Operador    |     Equivalente a    |\n",
        "|:---------------:|----------------------|\n",
        "|         =       |     x =   1          |\n",
        "|        +=       |     x =   x + 1      |\n",
        "|        -=       |     x =   x - 1      |\n",
        "|        *=       |     x =   x * 1      |\n",
        "|        /=       |     x =   x / 1      |\n",
        "|        %=       |     x =   x % 1      |"
      ]
    },
    {
      "cell_type": "markdown",
      "id": "e6332069",
      "metadata": {
        "id": "e6332069"
      },
      "source": [
        "**Bora praticar!**  \n",
        "Com tudo que vimos até o momento faça um programa que solicite ao usuário que insira seu ano de nascimento. Desconsiderando o mês do ano de nascimento, emita uma mensagem dizendo quantos anos ele possui."
      ]
    },
    {
      "cell_type": "code",
      "source": [],
      "metadata": {
        "id": "9Fny6qFukm9p"
      },
      "id": "9Fny6qFukm9p",
      "execution_count": null,
      "outputs": []
    },
    {
      "cell_type": "markdown",
      "id": "423e0da3",
      "metadata": {
        "id": "423e0da3"
      },
      "source": [
        "## Operadores de Comparação  \n",
        "Os operadores de comparação são aqueles que possuem o objetivo de analisar os valores de uma expressão e retornar um valor booleano, ou seja, verdadeiro (1) ou falso (0).\n",
        "\n",
        "**Operadores de comparação**\n",
        "\n",
        "|     Operador    |           Nome          |     Função                                              |\n",
        "|:---------------:|:-----------------------:|---------------------------------------------------------|\n",
        "|        ==       |         Igual   a       |     Verifica   se um valor é igual ao outro             |\n",
        "|        !=       |      Diferente   de     |     Verifica   se um valor é diferente ao outro         |\n",
        "|         >       |        Maior   que      |     Verifica   se um valor é maior que outro            |\n",
        "|        >=       |     Maior   ou igual    |     Verifica   se um valor é maior ou igual ao outro    |\n",
        "|         <       |        Menor   que      |     Verifica   se um valor é menor que outro            |\n",
        "|        <=       |     Menor   ou igual    |     Verifica   se um valor é menor ou igual ao outro    |"
      ]
    },
    {
      "cell_type": "code",
      "source": [],
      "metadata": {
        "id": "HR9XOx90koiH"
      },
      "id": "HR9XOx90koiH",
      "execution_count": null,
      "outputs": []
    },
    {
      "cell_type": "code",
      "source": [],
      "metadata": {
        "id": "pOBK6wAAkonK"
      },
      "id": "pOBK6wAAkonK",
      "execution_count": null,
      "outputs": []
    },
    {
      "cell_type": "code",
      "source": [],
      "metadata": {
        "id": "6mCyEbIbkosR"
      },
      "id": "6mCyEbIbkosR",
      "execution_count": null,
      "outputs": []
    },
    {
      "cell_type": "code",
      "source": [],
      "metadata": {
        "id": "YVMKPCAmkoxR"
      },
      "id": "YVMKPCAmkoxR",
      "execution_count": null,
      "outputs": []
    },
    {
      "cell_type": "code",
      "source": [],
      "metadata": {
        "id": "22hSBDrqko2o"
      },
      "id": "22hSBDrqko2o",
      "execution_count": null,
      "outputs": []
    },
    {
      "cell_type": "markdown",
      "source": [
        "## Exercícios"
      ],
      "metadata": {
        "id": "uHglYRHekuoV"
      },
      "id": "uHglYRHekuoV"
    },
    {
      "cell_type": "markdown",
      "id": "c7e1072f",
      "metadata": {
        "id": "c7e1072f"
      },
      "source": [
        "Imagine que você está implementando um sistema para verificar se os alunos de uma turma estudantil passaram na disciplina ou não. Para isso solicite que o usuário insira as notas das 4 provas realizadas por um estudante e calcule a média. Após isso, emita uma resposta booleana (True ou False) se o estudante passou na disciplina pensando que a média mínima para aprovação é que seja pelo menos 5."
      ]
    },
    {
      "cell_type": "code",
      "source": [],
      "metadata": {
        "id": "k87_2Gy-kpsH"
      },
      "id": "k87_2Gy-kpsH",
      "execution_count": null,
      "outputs": []
    },
    {
      "cell_type": "markdown",
      "id": "57b1c875",
      "metadata": {
        "id": "57b1c875"
      },
      "source": [
        "Crie um algoritmo que calcule o IMC (índice de massa corporal). O IMC é calculado com a formula PESO/(ALTURA ^ 2). Para isso, coloque as informações nas variáveis e ao final apresente o resultado como no exemplo: \"O IMC é 18\""
      ]
    },
    {
      "cell_type": "code",
      "source": [],
      "metadata": {
        "id": "O8unCJxbkqmX"
      },
      "id": "O8unCJxbkqmX",
      "execution_count": null,
      "outputs": []
    },
    {
      "cell_type": "markdown",
      "source": [
        "Vamos falar de coisa boa: aumento salarial!\n",
        "\n",
        "Faça um programa que pergunta o salário do funcionário, o aumento a ser aplicado (em %) e responde o seu novo salário."
      ],
      "metadata": {
        "id": "1NvkYSh9ufEH"
      },
      "id": "1NvkYSh9ufEH"
    },
    {
      "cell_type": "code",
      "source": [],
      "metadata": {
        "id": "1yzAnZohvGX-"
      },
      "id": "1yzAnZohvGX-",
      "execution_count": null,
      "outputs": []
    },
    {
      "cell_type": "markdown",
      "source": [
        "último recado\n",
        "\n",
        "preencher formulário enviado pela ada: https://forms.gle/7NBjWPgdNUjcjofr8"
      ],
      "metadata": {
        "id": "UddmndWIvGku"
      },
      "id": "UddmndWIvGku"
    },
    {
      "cell_type": "code",
      "source": [],
      "metadata": {
        "id": "CoxXPxVPvHXF"
      },
      "id": "CoxXPxVPvHXF",
      "execution_count": null,
      "outputs": []
    }
  ],
  "metadata": {
    "kernelspec": {
      "display_name": "Python 3 (ipykernel)",
      "language": "python",
      "name": "python3"
    },
    "language_info": {
      "codemirror_mode": {
        "name": "ipython",
        "version": 3
      },
      "file_extension": ".py",
      "mimetype": "text/x-python",
      "name": "python",
      "nbconvert_exporter": "python",
      "pygments_lexer": "ipython3",
      "version": "3.10.11"
    },
    "colab": {
      "provenance": [],
      "include_colab_link": true
    }
  },
  "nbformat": 4,
  "nbformat_minor": 5
}